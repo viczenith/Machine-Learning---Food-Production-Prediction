{
 "cells": [
  {
   "cell_type": "code",
   "execution_count": 1,
   "id": "b3edf42c",
   "metadata": {},
   "outputs": [],
   "source": [
    "import pandas as pd\n",
    "import matplotlib.pyplot as plt\n",
    "import seaborn as sns\n",
    "import numpy as np\n",
    "from sklearn.preprocessing import StandardScaler\n",
    "from sklearn.model_selection import train_test_split\n",
    "from sklearn.neural_network import MLPClassifier\n",
    "from sklearn.metrics import accuracy_score, f1_score, precision_score, recall_score\n",
    "from sklearn.metrics import confusion_matrix\n",
    "from sklearn.preprocessing import LabelEncoder"
   ]
  },
  {
   "cell_type": "code",
   "execution_count": 3,
   "id": "6ad50218",
   "metadata": {},
   "outputs": [
    {
     "data": {
      "text/plain": [
       "(112890, 17)"
      ]
     },
     "execution_count": 3,
     "metadata": {},
     "output_type": "execute_result"
    }
   ],
   "source": [
    "df_consumer_price_indicators = pd.read_csv('Consumer prices indicators - FAOSTAT_data_en_2-22-2024.csv')\n",
    "df_consumer_price_indicators.shape"
   ]
  },
  {
   "cell_type": "code",
   "execution_count": 4,
   "id": "59b3e7c4",
   "metadata": {},
   "outputs": [
    {
     "data": {
      "text/plain": [
       "(41649, 15)"
      ]
     },
     "execution_count": 4,
     "metadata": {},
     "output_type": "execute_result"
    }
   ],
   "source": [
    "df_crops_production_indicators = pd.read_csv('Crops production indicators - FAOSTAT_data_en_2-22-2024.csv')\n",
    "df_crops_production_indicators.shape"
   ]
  },
  {
   "cell_type": "code",
   "execution_count": 5,
   "id": "eb64efa8",
   "metadata": {},
   "outputs": [
    {
     "data": {
      "text/plain": [
       "(28910, 17)"
      ]
     },
     "execution_count": 5,
     "metadata": {},
     "output_type": "execute_result"
    }
   ],
   "source": [
    "df_emissions = pd.read_csv(\"Emissions - FAOSTAT_data_en_2-27-2024.csv\")\n",
    "df_emissions.shape"
   ]
  },
  {
   "cell_type": "code",
   "execution_count": null,
   "id": "a9ce4fda",
   "metadata": {},
   "outputs": [],
   "source": []
  }
 ],
 "metadata": {
  "kernelspec": {
   "display_name": "Python 3 (ipykernel)",
   "language": "python",
   "name": "python3"
  },
  "language_info": {
   "codemirror_mode": {
    "name": "ipython",
    "version": 3
   },
   "file_extension": ".py",
   "mimetype": "text/x-python",
   "name": "python",
   "nbconvert_exporter": "python",
   "pygments_lexer": "ipython3",
   "version": "3.11.5"
  }
 },
 "nbformat": 4,
 "nbformat_minor": 5
}
